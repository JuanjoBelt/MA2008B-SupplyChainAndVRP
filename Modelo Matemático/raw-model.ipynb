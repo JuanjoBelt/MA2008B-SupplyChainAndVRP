{
  "cells": [
    {
      "cell_type": "markdown",
      "metadata": {
        "id": "Omyu6LZmJRHm"
      },
      "source": [
        "# MA2008B: Cadena de Suministro + Ruteo de Vehículos\n",
        "\n",
        "En este notebook se implementa el modelo matemático para resolver a optimalidad el problema de cadena de suministro + ruteo de vehículos."
      ]
    },
    {
      "cell_type": "code",
      "execution_count": 1,
      "metadata": {
        "id": "IkGrQPPQJCgu"
      },
      "outputs": [],
      "source": [
        "from pulp import *\n",
        "import json"
      ]
    },
    {
      "cell_type": "markdown",
      "metadata": {},
      "source": [
        "## Leer Datos Desde JSON\n",
        "\n",
        "Los \"-1\" son None."
      ]
    },
    {
      "cell_type": "code",
      "execution_count": 2,
      "metadata": {},
      "outputs": [],
      "source": [
        "with open('input.json', 'r') as file:\n",
        "    data = json.load(file)"
      ]
    },
    {
      "cell_type": "markdown",
      "metadata": {
        "id": "tRw1Om6VKZFJ"
      },
      "source": [
        "## Modelo Matemático"
      ]
    },
    {
      "cell_type": "code",
      "execution_count": 3,
      "metadata": {
        "id": "DPV0VjBfKda3"
      },
      "outputs": [],
      "source": [
        "# Inicializar PuLP\n",
        "prob = LpProblem(\"Suministro+Ruteo\", LpMinimize)"
      ]
    },
    {
      "cell_type": "markdown",
      "metadata": {
        "id": "oqnWKF3rPnrG"
      },
      "source": [
        "### Conjuntos del Problema"
      ]
    },
    {
      "cell_type": "code",
      "execution_count": 4,
      "metadata": {
        "id": "a0xivjWvZR6G"
      },
      "outputs": [],
      "source": [
        "I = data[\"numProveedores\"] # Cantidad de proveedores\n",
        "L = data[\"numPoligonos\"] # Cantidad de polígonos de siembra\n",
        "M = data[\"numEspecies\"] # Cantidad de especies de plantas\n",
        "T = data[\"numPeriodos\"] # Cantidad de periodos discretos\n",
        "K = data[\"numViajes\"] # Cantidad de viajes por periodo"
      ]
    },
    {
      "cell_type": "code",
      "execution_count": 5,
      "metadata": {
        "id": "zoBLHw4IPFdT"
      },
      "outputs": [],
      "source": [
        "# Definir los conjuntos del problema\n",
        "set_I = list(range(1, I + 1))\n",
        "set_L = list(range(1, L + 1))\n",
        "set_M = list(range(1, M + 1))\n",
        "set_T = list(range(1, T + 1))\n",
        "set_K = list(range(1, K + 1))\n",
        "set_V = [0] + set_L"
      ]
    },
    {
      "cell_type": "markdown",
      "metadata": {
        "id": "ONXXCM1SPiP3"
      },
      "source": [
        "### Parámetros del Problema\n",
        "\n",
        "Nótese que, como en el planteamiento del modelo la mayoría de las variables se indexan empezando en 1, esta indexación debe corresponder con la de los parámetros. Como convención, se colocará, o bien una lista vacía, o bien un `None` en los espacios vacíos."
      ]
    },
    {
      "cell_type": "code",
      "execution_count": 6,
      "metadata": {
        "id": "sAadBIe_ZOKk"
      },
      "outputs": [],
      "source": [
        "# Demandas de cada polígono\n",
        "d = data[\"demandas\"]\n",
        "\n",
        "# Ofertas de cada proveedor\n",
        "o = data[\"ofertas\"]\n",
        "# Costo por unidad comprada a proveedores\n",
        "c = data[\"costosPEspecie\"]\n",
        "\n",
        "# Unidades de mano de obra necesarias por especie\n",
        "g = data[\"manoobraPEspecie\"]\n",
        "# Capacidad de tratamiento del almacén por periodo\n",
        "p = data[\"capManoobra\"]\n",
        "\n",
        "# Unidades de espacio requeridas por especie\n",
        "f = data[\"espacioPEspecie\"]\n",
        "# Capaccidad total del almacén\n",
        "a = data[\"capAlmacen\"]\n",
        "# Capacidad de los vehículos de envío\n",
        "omega = data[\"capVehiculos\"]\n",
        "\n",
        "# Desfase\n",
        "delta = data[\"desfase\"]\n",
        "\n",
        "\n",
        "# Tiempo de carga/descarga por unidad\n",
        "rho = data[\"tiempoDeCarga\"]\n",
        "# Tiempo disponible para transporte por periodo\n",
        "s = data[\"capTiempoPPeriodo\"]\n",
        "\n",
        "# Constante muy grande...\n",
        "bigM = data[\"bigM\"]\n",
        "# Peso del costo ecnonómico en la función objetivo\n",
        "e1 = data[\"pesoObj1\"]\n",
        "# Peso del costo en tiempo en la función objetivo\n",
        "e2 = data[\"pesoObj2\"]\n",
        "\n",
        "# Costo fijo por plantar una unidad\n",
        "cPlant = data[\"cPPlantarUnidad\"]\n",
        "cPedido = data[\"cPPedirProveedores\"]\n",
        "\n",
        "# Costos de recorrer cada arco del grafo\n",
        "sigma = [[bigM, 30, 40],\n",
        "         [30, bigM, 60],\n",
        "         [40, 60, bigM]]"
      ]
    },
    {
      "cell_type": "markdown",
      "metadata": {
        "id": "JXnXIDYZPtGX"
      },
      "source": [
        "### Variales del Problema"
      ]
    },
    {
      "cell_type": "code",
      "execution_count": 7,
      "metadata": {
        "id": "rUe0YQmYO_lu"
      },
      "outputs": [],
      "source": [
        "# Definir las variables de decsión\n",
        "x = LpVariable.dicts(\"x\", (set_I, list(range(-delta, 1)) + set_T, set_M), lowBound = 0, cat = \"Integer\")\n",
        "y = LpVariable.dicts(\"y\", (set_L, set_T, set_M), lowBound = 0, cat = \"Integer\")\n",
        "r = LpVariable.dicts(\"r\", (set_V, set_V, set_T, set_K), cat = \"Binary\")\n",
        "mu =  LpVariable.dicts(\"mu\", (set_T, set_K, set_M), lowBound = 0, cat = \"Integer\")\n",
        "\n",
        "# Definir las variables auxiliares\n",
        "phi = LpVariable.dicts(\"phi\", (list(range(-delta, 1)) + set_T, set_M), lowBound = 0, cat = \"Integer\")\n",
        "w = LpVariable.dicts(\"w\", (set_V, set_V, set_T, set_K, set_M), lowBound = 0, cat = \"Integer\")\n",
        "q = LpVariable.dicts(\"q\", (set_L, set_K, set_T), lowBound = 0, cat = \"Integer\")\n",
        "\n",
        "h = LpVariable.dicts(\"h\", (set_K, set_T), cat = \"Binary\") # Si se usa el vehículo k en t\n",
        "u = LpVariable.dicts(\"u\", (set_I, set_T), cat = \"Binary\") # Si se requiere al proveedor i en t\n",
        "\n",
        "# Variables auxiliares para el objetivo\n",
        "z1 = LpVariable(\"z1\", lowBound=0, cat = \"Continuous\")\n",
        "z2 = LpVariable(\"z2\", lowBound=0, cat = \"Continuous\")\n",
        "\n",
        "# print(phi)"
      ]
    },
    {
      "cell_type": "markdown",
      "metadata": {
        "id": "w02v_BsDSCjq"
      },
      "source": [
        "### Función Objetivo"
      ]
    },
    {
      "cell_type": "code",
      "execution_count": 8,
      "metadata": {
        "id": "9TEX6OcIRSIj"
      },
      "outputs": [],
      "source": [
        "# La combinación lineal de los costos\n",
        "prob += e1*z1 + e2*z2"
      ]
    },
    {
      "cell_type": "markdown",
      "metadata": {
        "id": "WhUtFKRnatcr"
      },
      "source": [
        "Restricciones para funciones objetivo..."
      ]
    },
    {
      "cell_type": "code",
      "execution_count": 9,
      "metadata": {
        "id": "eItEMh0Tap5X"
      },
      "outputs": [],
      "source": [
        "# Función objetivo sobre costos económicos\n",
        "prob += z1 == lpSum(c[m][i]*x[i][t][m] for i in set_I for t in set_T for m in set_M) \\\n",
        "              + cPlant * lpSum(y[l][t][m] for l in set_L for t in set_T for m in set_M) \\\n",
        "              + cPedido * lpSum(u[i][t] for i in set_I for t in set_T)\n",
        "# Función objetivo sore el tiempo invertido en el proyecto\n",
        "prob += z2 == lpSum(sigma[alpha][beta]  * r[alpha][beta][t][k] for alpha in set_V for beta in set_V for t in set_T for k in set_K) \\\n",
        "              + 2*rho * lpSum(w[alpha][beta][t][k][m] for alpha in set_V for beta in set_V for k in set_K for t in set_T for m in set_M)"
      ]
    },
    {
      "cell_type": "markdown",
      "metadata": {
        "id": "hK1ZKlnzU42J"
      },
      "source": [
        "### Restricciones"
      ]
    },
    {
      "cell_type": "markdown",
      "metadata": {
        "id": "AUIRCwvNYcFJ"
      },
      "source": [
        "#### Restricciones para la Cadena de Suministro\n",
        "\n",
        "Restricciones de flujo para el almacén. Aquí es donde se aplica el desfase (delta)."
      ]
    },
    {
      "cell_type": "code",
      "execution_count": 10,
      "metadata": {
        "id": "pHBgON3RU7Lb"
      },
      "outputs": [],
      "source": [
        "for i in set_I:\n",
        "    for t in set_T:\n",
        "        for m in set_M:\n",
        "          prob += phi[t-1-delta][m] + lpSum(x[i][t-delta][m] for i in set_I) == \\\n",
        "                  phi[t][m] + lpSum(y[l][t][m] for l in set_L)\n",
        "\n",
        "# No hay plantas en almacén al inicio del proyeto\n",
        "for t in range(-delta, 1):\n",
        "    for m in set_M:\n",
        "        prob += phi[t][m] == 0\n",
        "\n",
        "# No se reciben pedidos de proveedores en tiempos negativos\n",
        "for t in range(-delta, 1):\n",
        "    for m in set_M:\n",
        "        for i in set_I:\n",
        "            prob += x[i][t][m] == 0"
      ]
    },
    {
      "cell_type": "markdown",
      "metadata": {
        "id": "h23xjy-YYiIi"
      },
      "source": [
        "Límite en la capacidad de tratamiento por periodo de tiempo. En el modelo matemático por escrito esta restricción se había partido orignalmente en dos."
      ]
    },
    {
      "cell_type": "code",
      "execution_count": 11,
      "metadata": {
        "id": "B0PDygoTTUyN"
      },
      "outputs": [],
      "source": [
        "for t in set_T:\n",
        "    prob += lpSum(g[m] * lpSum(y[l][t][m] for l in set_L) for m in set_M) <= p"
      ]
    },
    {
      "cell_type": "markdown",
      "metadata": {
        "id": "TPNRe61faH-O"
      },
      "source": [
        "Límite por la capacidad máxima del almacén."
      ]
    },
    {
      "cell_type": "code",
      "execution_count": 12,
      "metadata": {
        "id": "ADqEMnGLaMof"
      },
      "outputs": [],
      "source": [
        "for t in set_T:\n",
        "    prob += lpSum(f[m] * (phi[t-1-delta][m] + lpSum(y[l][t][m] for l in set_L)) for m in set_M)  <= a"
      ]
    },
    {
      "cell_type": "markdown",
      "metadata": {
        "id": "WJMYBqvEb8lp"
      },
      "source": [
        "Satisfacer la demanda de los polígonos de plantación."
      ]
    },
    {
      "cell_type": "code",
      "execution_count": 13,
      "metadata": {
        "id": "r9p4OC8HcMID"
      },
      "outputs": [],
      "source": [
        "for l in set_L:\n",
        "    for m in set_M:\n",
        "        prob += lpSum(y[l][t][m] for t in set_T) == d[m][l]"
      ]
    },
    {
      "cell_type": "markdown",
      "metadata": {
        "id": "1a05jYHdcyRb"
      },
      "source": [
        "Límite por la oferta de cada proveedor."
      ]
    },
    {
      "cell_type": "code",
      "execution_count": 14,
      "metadata": {
        "id": "DmEEsvGHdAhp"
      },
      "outputs": [],
      "source": [
        "for i in set_I:\n",
        "    for m in set_M:\n",
        "        prob += lpSum(x[i][t][m] for t in set_T) <= o[m][i]"
      ]
    },
    {
      "cell_type": "markdown",
      "metadata": {},
      "source": [
        "Encender variable si se requiere a un determinado proveedor."
      ]
    },
    {
      "cell_type": "code",
      "execution_count": 15,
      "metadata": {},
      "outputs": [],
      "source": [
        "for i in set_I:\n",
        "    for t in set_T:\n",
        "        prob += lpSum(x[i][t][m] for m in set_M) <= u[i][t] * bigM"
      ]
    },
    {
      "cell_type": "markdown",
      "metadata": {
        "id": "mD-KwXg0dq6S"
      },
      "source": [
        "#### Restricciones para el Ruteo de Vehículos\n",
        "\n",
        "Preservar el flujo de los vehículos."
      ]
    },
    {
      "cell_type": "code",
      "execution_count": 16,
      "metadata": {
        "id": "Ia8WxsRZectl"
      },
      "outputs": [],
      "source": [
        "for t in set_T:\n",
        "    for k in set_K:\n",
        "        for beta in set_V:\n",
        "            prob += lpSum(r[alpha][beta][t][k] for alpha in set_V) - \\\n",
        "                    lpSum(r[beta][gamma][t][k] for gamma in set_V) == 0"
      ]
    },
    {
      "cell_type": "markdown",
      "metadata": {
        "id": "K1L6faGQfksu"
      },
      "source": [
        "Todas las rutas visitan el almacén. Solo si ese vehículo va a repartir plantas. Si no va a repartir ninguna planta no es obligatorio que salga del almacén."
      ]
    },
    {
      "cell_type": "code",
      "execution_count": 17,
      "metadata": {
        "id": "XqKOheUKfn15"
      },
      "outputs": [],
      "source": [
        "for t in set_T:\n",
        "    for k in set_K:\n",
        "        prob += lpSum(r[0][beta][t][k] for beta in set_L) == h[k][t]\n",
        "\n",
        "# Encender o apagar la restricción anterior\n",
        "for t in set_T:\n",
        "    for k in set_K:\n",
        "        prob += lpSum(mu[t][k][m] for m in set_M) <= h[k][t] * bigM"
      ]
    },
    {
      "cell_type": "markdown",
      "metadata": {
        "id": "Ju02hGJTf4kU"
      },
      "source": [
        "Nunca se supera la capacidad máxima del vehículo."
      ]
    },
    {
      "cell_type": "code",
      "execution_count": 18,
      "metadata": {
        "id": "fFddsNARgAFA"
      },
      "outputs": [],
      "source": [
        "# Contabilizar cuantas unidades de cada especie lleva cada ruta\n",
        "for t in set_T:\n",
        "    for k in set_K:\n",
        "        for m in set_M:\n",
        "            prob += lpSum(w[alpha][beta][t][k][m] for alpha in set_V for beta in set_V) == mu[t][k][m]\n",
        "\n",
        "# Asegurarse de que las unidades de espacio ocupadas en cada vehículo sean menores\n",
        "# que su capacidad\n",
        "for t in set_T:\n",
        "    for k in set_K:\n",
        "        prob += lpSum(f[m] * mu[t][k][m] for m in set_M) <= omega"
      ]
    },
    {
      "cell_type": "markdown",
      "metadata": {
        "id": "lm3SW78zh2ko"
      },
      "source": [
        "Llevar a cada polígono exactamente las unidades asignadas"
      ]
    },
    {
      "cell_type": "code",
      "execution_count": 19,
      "metadata": {
        "id": "BvA4accmh-cA"
      },
      "outputs": [],
      "source": [
        "for t in set_T:\n",
        "    for m in set_M:\n",
        "        for beta in set_L:\n",
        "            prob += lpSum(w[alpha][beta][t][k][m] for alpha in set_V for k in set_K) == y[beta][t][m]"
      ]
    },
    {
      "cell_type": "markdown",
      "metadata": {
        "id": "UAxw0gx3ieUa"
      },
      "source": [
        "Límite de tiempo para cada periodo."
      ]
    },
    {
      "cell_type": "code",
      "execution_count": 20,
      "metadata": {
        "id": "TBlOn8hkiomn"
      },
      "outputs": [],
      "source": [
        "for t in set_T:\n",
        "    prob += lpSum(r[alpha][beta][t][k] * sigma[alpha][beta] for alpha in set_V for beta in set_V for k in set_K) \\\n",
        "            + 2*rho * lpSum(w[alpha][beta][t][k][m] for alpha in set_V for beta in set_V for k in set_K for m in set_M) <= s"
      ]
    },
    {
      "cell_type": "markdown",
      "metadata": {
        "id": "Jt8xMy7IlP7d"
      },
      "source": [
        "Evitar subtours."
      ]
    },
    {
      "cell_type": "code",
      "execution_count": 21,
      "metadata": {
        "id": "qQmjnS5plTIQ"
      },
      "outputs": [],
      "source": [
        "for t in set_T:\n",
        "    for k in set_K:\n",
        "        for alpha in set_L:\n",
        "            for beta in set_L:\n",
        "                if alpha != beta:\n",
        "                    prob += q[alpha][k][t] - q[beta][k][t] + L * r[alpha][beta][t][k] <= L - 1"
      ]
    },
    {
      "cell_type": "markdown",
      "metadata": {
        "id": "rLygwKV6mrbn"
      },
      "source": [
        "No existe carga transportada en arcos no utilizados."
      ]
    },
    {
      "cell_type": "code",
      "execution_count": 22,
      "metadata": {
        "id": "xSaK0MvFmyy4"
      },
      "outputs": [],
      "source": [
        "for t in set_T:\n",
        "    for m in set_M:\n",
        "        for k in set_K:\n",
        "            for alpha in set_V:\n",
        "                for beta in set_V:\n",
        "                    prob += w[alpha][beta][t][k][m] <= bigM * r[alpha][beta][t][k]"
      ]
    },
    {
      "cell_type": "markdown",
      "metadata": {
        "id": "uIXQCO8SWojn"
      },
      "source": [
        "### Resolver"
      ]
    },
    {
      "cell_type": "code",
      "execution_count": 23,
      "metadata": {},
      "outputs": [],
      "source": [
        "# Print into txt file...\n",
        "import sys\n",
        "sys.stdout = open(\"output-solution.txt\", \"w\")"
      ]
    },
    {
      "cell_type": "code",
      "execution_count": 24,
      "metadata": {
        "id": "VtHAqt24nael"
      },
      "outputs": [],
      "source": [
        "prob.writeLP('output-problem')\n",
        "status = prob.solve()\n",
        "print('Status:', LpStatus[status])"
      ]
    },
    {
      "cell_type": "code",
      "execution_count": 25,
      "metadata": {
        "id": "HB076X7KWk29"
      },
      "outputs": [],
      "source": [
        "for var in prob.variables():\n",
        "    print(f\"{var.name}: {var.varValue}\")"
      ]
    }
  ],
  "metadata": {
    "colab": {
      "provenance": []
    },
    "kernelspec": {
      "display_name": "Python 3",
      "name": "python3"
    },
    "language_info": {
      "codemirror_mode": {
        "name": "ipython",
        "version": 3
      },
      "file_extension": ".py",
      "mimetype": "text/x-python",
      "name": "python",
      "nbconvert_exporter": "python",
      "pygments_lexer": "ipython3",
      "version": "3.10.6"
    }
  },
  "nbformat": 4,
  "nbformat_minor": 0
}
